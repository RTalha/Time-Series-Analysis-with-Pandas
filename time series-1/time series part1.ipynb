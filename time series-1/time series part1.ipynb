{
 "cells": [
  {
   "cell_type": "code",
   "execution_count": 2,
   "metadata": {},
   "outputs": [
    {
     "name": "stdout",
     "output_type": "stream",
     "text": [
      " scipy: 0.19.0 \n",
      " numpy: 1.15.3 \n",
      " matplotlib: 2.0.2 \n",
      " pandas: 0.20.1 \n",
      " statsmodels: 0.8.0 \n",
      " sklearn: 0.18.1 \n"
     ]
    }
   ],
   "source": [
    "# check the versions of key python libraries\n",
    "# scipy\n",
    "import scipy\n",
    "print( ' scipy: %s ' % scipy.__version__)\n",
    "# numpy\n",
    "import numpy as np\n",
    "print( ' numpy: %s ' % numpy.__version__)\n",
    "# matplotlib\n",
    "import matplotlib as plt\n",
    "print( ' matplotlib: %s ' % matplotlib.__version__)\n",
    "# pandas\n",
    "import pandas as pd\n",
    "print( ' pandas: %s ' % pandas.__version__)\n",
    "# statsmodels\n",
    "import statsmodels as stat\n",
    "print( ' statsmodels: %s ' % statsmodels.__version__)\n",
    "# scikit-learn\n",
    "import sklearn as sk\n",
    "print( ' sklearn: %s ' % sklearn.__version__)"
   ]
  },
  {
   "cell_type": "code",
   "execution_count": 6,
   "metadata": {},
   "outputs": [],
   "source": [
    "series=pd.read_csv(\"/home/talha/Downloads/deep_ts_bundle/time_series_forecasting_with_python/code/chapter_04/daily-total-female-births.csv\",\n",
    "                   header=0,index_col=0,parse_dates=True,squeeze=True)"
   ]
  },
  {
   "cell_type": "code",
   "execution_count": 7,
   "metadata": {},
   "outputs": [
    {
     "name": "stdout",
     "output_type": "stream",
     "text": [
      "<class 'pandas.core.series.Series'>\n"
     ]
    }
   ],
   "source": [
    "print (type(series))"
   ]
  },
  {
   "cell_type": "code",
   "execution_count": 12,
   "metadata": {},
   "outputs": [
    {
     "data": {
      "text/plain": [
       "Date\n",
       "1959-01-01    35\n",
       "1959-01-02    32\n",
       "1959-01-03    30\n",
       "1959-01-04    31\n",
       "1959-01-05    44\n",
       "Name: Births, dtype: int64"
      ]
     },
     "execution_count": 12,
     "metadata": {},
     "output_type": "execute_result"
    }
   ],
   "source": [
    "series.tail() #to check last five recordes\n",
    "series.head() #to check first five records"
   ]
  },
  {
   "cell_type": "code",
   "execution_count": 11,
   "metadata": {},
   "outputs": [
    {
     "name": "stdout",
     "output_type": "stream",
     "text": [
      "365\n"
     ]
    }
   ],
   "source": [
    "print (series.size)  #to check number of records"
   ]
  },
  {
   "cell_type": "code",
   "execution_count": 16,
   "metadata": {},
   "outputs": [
    {
     "name": "stdout",
     "output_type": "stream",
     "text": [
      "Date\n",
      "1959-01-01    35\n",
      "1959-01-02    32\n",
      "1959-01-03    30\n",
      "1959-01-04    31\n",
      "1959-01-05    44\n",
      "1959-01-06    29\n",
      "1959-01-07    45\n",
      "1959-01-08    43\n",
      "1959-01-09    38\n",
      "1959-01-10    27\n",
      "1959-01-11    38\n",
      "1959-01-12    33\n",
      "1959-01-13    55\n",
      "1959-01-14    47\n",
      "1959-01-15    45\n",
      "1959-01-16    37\n",
      "1959-01-17    50\n",
      "1959-01-18    43\n",
      "1959-01-19    41\n",
      "1959-01-20    52\n",
      "1959-01-21    34\n",
      "1959-01-22    53\n",
      "1959-01-23    39\n",
      "1959-01-24    32\n",
      "1959-01-25    37\n",
      "1959-01-26    43\n",
      "1959-01-27    39\n",
      "1959-01-28    35\n",
      "1959-01-29    44\n",
      "1959-01-30    38\n",
      "              ..\n",
      "1959-12-02    32\n",
      "1959-12-03    46\n",
      "1959-12-04    41\n",
      "1959-12-05    34\n",
      "1959-12-06    33\n",
      "1959-12-07    36\n",
      "1959-12-08    49\n",
      "1959-12-09    43\n",
      "1959-12-10    43\n",
      "1959-12-11    34\n",
      "1959-12-12    39\n",
      "1959-12-13    35\n",
      "1959-12-14    52\n",
      "1959-12-15    47\n",
      "1959-12-16    52\n",
      "1959-12-17    39\n",
      "1959-12-18    40\n",
      "1959-12-19    42\n",
      "1959-12-20    42\n",
      "1959-12-21    53\n",
      "1959-12-22    39\n",
      "1959-12-23    40\n",
      "1959-12-24    38\n",
      "1959-12-25    44\n",
      "1959-12-26    34\n",
      "1959-12-27    37\n",
      "1959-12-28    52\n",
      "1959-12-29    48\n",
      "1959-12-30    55\n",
      "1959-12-31    50\n",
      "Name: Births, Length: 365, dtype: int64\n"
     ]
    }
   ],
   "source": [
    "print (series['1959']) #it will give all observations for 1959 and if it replace with 1959-01 it will give observations of january"
   ]
  },
  {
   "cell_type": "code",
   "execution_count": 17,
   "metadata": {},
   "outputs": [
    {
     "name": "stdout",
     "output_type": "stream",
     "text": [
      "count    365.000000\n",
      "mean      41.980822\n",
      "std        7.348257\n",
      "min       23.000000\n",
      "25%       37.000000\n",
      "50%       42.000000\n",
      "75%       46.000000\n",
      "max       73.000000\n",
      "Name: Births, dtype: float64\n"
     ]
    }
   ],
   "source": [
    "print (series.describe()) #it may help in data scaling or may be cleaning it gives 7 outputs of statestical computation"
   ]
  },
  {
   "cell_type": "code",
   "execution_count": null,
   "metadata": {
    "collapsed": true
   },
   "outputs": [],
   "source": []
  }
 ],
 "metadata": {
  "kernelspec": {
   "display_name": "Python 3",
   "language": "python",
   "name": "python3"
  },
  "language_info": {
   "codemirror_mode": {
    "name": "ipython",
    "version": 2
   },
   "file_extension": ".py",
   "mimetype": "text/x-python",
   "name": "python",
   "nbconvert_exporter": "python",
   "pygments_lexer": "ipython2",
   "version": "2.7.13"
  }
 },
 "nbformat": 4,
 "nbformat_minor": 2
}
